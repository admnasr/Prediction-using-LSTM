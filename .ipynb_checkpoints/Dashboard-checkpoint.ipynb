{
 "cells": [
  {
   "cell_type": "code",
   "execution_count": 1,
   "metadata": {},
   "outputs": [],
   "source": [
    "import numpy as np\n",
    "import matplotlib as mpl\n",
    "import matplotlib.pyplot as plt\n",
    "import pandas as pd\n",
    "import seaborn as sns\n",
    "import warnings\n",
    "warnings.filterwarnings('ignore')\n",
    "pd.set_option('display.float_format', lambda x: '%.4f' % x)\n",
    "from time import time\n",
    "\n",
    "import math\n",
    "import keras\n",
    "from keras.models import Sequential\n",
    "from sklearn.preprocessing import MinMaxScaler\n",
    "from sklearn.metrics import mean_squared_error\n",
    "from sklearn.metrics import mean_absolute_error\n",
    "from keras.callbacks import EarlyStopping"
   ]
  },
  {
   "cell_type": "markdown",
   "metadata": {},
   "source": [
    "#  Prediction of Home Energy Consumption using LSTM"
   ]
  },
  {
   "cell_type": "markdown",
   "metadata": {},
   "source": [
    "# Household Power Consumption Data Set"
   ]
  },
  {
   "cell_type": "code",
   "execution_count": 2,
   "metadata": {
    "scrolled": true
   },
   "outputs": [],
   "source": [
    "df = pd.read_csv('household_power_consumption.txt', delimiter=',')"
   ]
  },
  {
   "cell_type": "code",
   "execution_count": 3,
   "metadata": {},
   "outputs": [],
   "source": [
    "df = df.iloc[: , 1:]"
   ]
  },
  {
   "cell_type": "code",
   "execution_count": 4,
   "metadata": {},
   "outputs": [
    {
     "data": {
      "text/html": [
       "<div>\n",
       "<style scoped>\n",
       "    .dataframe tbody tr th:only-of-type {\n",
       "        vertical-align: middle;\n",
       "    }\n",
       "\n",
       "    .dataframe tbody tr th {\n",
       "        vertical-align: top;\n",
       "    }\n",
       "\n",
       "    .dataframe thead th {\n",
       "        text-align: right;\n",
       "    }\n",
       "</style>\n",
       "<table border=\"1\" class=\"dataframe\">\n",
       "  <thead>\n",
       "    <tr style=\"text-align: right;\">\n",
       "      <th></th>\n",
       "      <th>Global_active_power</th>\n",
       "      <th>Sub_metering_1</th>\n",
       "      <th>Sub_metering_2</th>\n",
       "      <th>Sub_metering_3</th>\n",
       "      <th>date_time</th>\n",
       "    </tr>\n",
       "  </thead>\n",
       "  <tbody>\n",
       "    <tr>\n",
       "      <th>0</th>\n",
       "      <td>4.2160</td>\n",
       "      <td>0.0000</td>\n",
       "      <td>1.0000</td>\n",
       "      <td>17.0000</td>\n",
       "      <td>2006-12-16 17:24:00</td>\n",
       "    </tr>\n",
       "    <tr>\n",
       "      <th>1</th>\n",
       "      <td>5.3600</td>\n",
       "      <td>0.0000</td>\n",
       "      <td>1.0000</td>\n",
       "      <td>16.0000</td>\n",
       "      <td>2006-12-16 17:25:00</td>\n",
       "    </tr>\n",
       "    <tr>\n",
       "      <th>2</th>\n",
       "      <td>5.3740</td>\n",
       "      <td>0.0000</td>\n",
       "      <td>2.0000</td>\n",
       "      <td>17.0000</td>\n",
       "      <td>2006-12-16 17:26:00</td>\n",
       "    </tr>\n",
       "    <tr>\n",
       "      <th>3</th>\n",
       "      <td>5.3880</td>\n",
       "      <td>0.0000</td>\n",
       "      <td>1.0000</td>\n",
       "      <td>17.0000</td>\n",
       "      <td>2006-12-16 17:27:00</td>\n",
       "    </tr>\n",
       "    <tr>\n",
       "      <th>4</th>\n",
       "      <td>3.6660</td>\n",
       "      <td>0.0000</td>\n",
       "      <td>1.0000</td>\n",
       "      <td>17.0000</td>\n",
       "      <td>2006-12-16 17:28:00</td>\n",
       "    </tr>\n",
       "  </tbody>\n",
       "</table>\n",
       "</div>"
      ],
      "text/plain": [
       "   Global_active_power  Sub_metering_1  Sub_metering_2  Sub_metering_3  \\\n",
       "0               4.2160          0.0000          1.0000         17.0000   \n",
       "1               5.3600          0.0000          1.0000         16.0000   \n",
       "2               5.3740          0.0000          2.0000         17.0000   \n",
       "3               5.3880          0.0000          1.0000         17.0000   \n",
       "4               3.6660          0.0000          1.0000         17.0000   \n",
       "\n",
       "             date_time  \n",
       "0  2006-12-16 17:24:00  \n",
       "1  2006-12-16 17:25:00  \n",
       "2  2006-12-16 17:26:00  \n",
       "3  2006-12-16 17:27:00  \n",
       "4  2006-12-16 17:28:00  "
      ]
     },
     "execution_count": 4,
     "metadata": {},
     "output_type": "execute_result"
    }
   ],
   "source": [
    "df.head()"
   ]
  },
  {
   "cell_type": "code",
   "execution_count": null,
   "metadata": {},
   "outputs": [],
   "source": [
    "df['Global_active_power'] = pd.to_numeric(df['Global_active_power'], errors='coerce')\n",
    "df['date_time'] = pd.to_datetime(df['date_time'])\n",
    "df['year'] = df['date_time'].apply(lambda x: x.year)\n",
    "df['quarter'] = df['date_time'].apply(lambda x: x.quarter)\n",
    "df['month'] = df['date_time'].apply(lambda x: x.month)\n",
    "df['day'] = df['date_time'].apply(lambda x: x.day)"
   ]
  },
  {
   "cell_type": "markdown",
   "metadata": {},
   "source": [
    "# Electric Consumption of the household"
   ]
  },
  {
   "cell_type": "code",
   "execution_count": null,
   "metadata": {
    "scrolled": true
   },
   "outputs": [],
   "source": [
    "df = df.dropna(subset=['Global_active_power'])\n",
    "df1 = df.set_index('date_time')\n",
    "fig = plt.figure(figsize=(10,8))\n",
    "ax1 = fig.add_subplot()\n",
    "ax1.plot(df1['Global_active_power'], linewidth=1)\n",
    "ax1.set_title('Household Electric Consumption')\n",
    "plt.xlabel(\"Date and Time\")\n",
    "plt.ylabel(\"Electric energy usage(Kilowatts)\")\n",
    "ax1.tick_params(axis='both', which='major')"
   ]
  },
  {
   "cell_type": "code",
   "execution_count": null,
   "metadata": {},
   "outputs": [],
   "source": [
    "df['Sub_metering_1'] = pd.to_numeric(df['Sub_metering_1'], errors='coerce')\n",
    "df['Sub_metering_2'] = pd.to_numeric(df['Sub_metering_2'], errors='coerce')\n",
    "df['Sub_metering_3'] = pd.to_numeric(df['Sub_metering_3'], errors='coerce')"
   ]
  },
  {
   "cell_type": "code",
   "execution_count": null,
   "metadata": {
    "scrolled": true
   },
   "outputs": [],
   "source": [
    "df = df.dropna(subset=['Sub_metering_1'])\n",
    "df1 = df.set_index('date_time')\n",
    "fig = plt.figure(figsize=(10,8))\n",
    "ax1 = fig.add_subplot()\n",
    "ax1.plot(df1['Sub_metering_1'], linewidth=1)\n",
    "ax1.set_title('Kitchen(Sub metering 1)')\n",
    "plt.xlabel(\"Date and Time\")\n",
    "plt.ylabel(\"Electric energy usage(Kilowatts)\")\n",
    "ax1.tick_params(axis='both', which='major')"
   ]
  },
  {
   "cell_type": "code",
   "execution_count": null,
   "metadata": {},
   "outputs": [],
   "source": [
    "df = df.dropna(subset=['Sub_metering_2'])\n",
    "df1 = df.set_index('date_time')\n",
    "fig = plt.figure(figsize=(10,8))\n",
    "ax1 = fig.add_subplot()\n",
    "ax1.plot(df1['Sub_metering_2'], linewidth=1)\n",
    "ax1.set_title('Laundry room(Sub metering 2)')\n",
    "plt.xlabel(\"Date and Time\")\n",
    "plt.ylabel(\"Electric energy usage(Kilowatts)\")\n",
    "ax1.tick_params(axis='both', which='major')"
   ]
  },
  {
   "cell_type": "code",
   "execution_count": null,
   "metadata": {},
   "outputs": [],
   "source": [
    "df = df.dropna(subset=['Sub_metering_3'])\n",
    "df1 = df.set_index('date_time')\n",
    "fig = plt.figure(figsize=(10,8))\n",
    "ax1 = fig.add_subplot()\n",
    "ax1.plot(df1['Sub_metering_3'], linewidth=1)\n",
    "ax1.set_title('High energy consumption area(Sub metering 3)')\n",
    "plt.xlabel(\"Date and Time\")\n",
    "plt.ylabel(\"Electric energy usage(Kilowatts)\")\n",
    "ax1.tick_params(axis='both', which='major')"
   ]
  },
  {
   "cell_type": "code",
   "execution_count": null,
   "metadata": {},
   "outputs": [],
   "source": [
    "df = df.dropna(subset=['Global_active_power'])\n",
    "df['date_time'] = pd.to_datetime(df['date_time'])\n",
    "df = df.loc[:,['date_time','Global_active_power','year','quarter','month','day']]\n",
    "df.sort_values('date_time', inplace=True, ascending=True)\n",
    "df = df.reset_index(drop=True)"
   ]
  },
  {
   "cell_type": "code",
   "execution_count": null,
   "metadata": {},
   "outputs": [],
   "source": [
    "dataset=df.Global_active_power.values #numpy.ndarray\n",
    "dataset=dataset.astype('float32')\n",
    "dataset=np.reshape(dataset, (-1,1))\n",
    "scaler=MinMaxScaler(feature_range=(0,1))\n",
    "dataset=scaler.fit_transform(dataset)\n",
    "train_size=int(len(dataset)*0.80)\n",
    "test_size=len(dataset) - train_size\n",
    "train, test = dataset[0:train_size,:], dataset[train_size:len(dataset),:]"
   ]
  },
  {
   "cell_type": "code",
   "execution_count": null,
   "metadata": {},
   "outputs": [],
   "source": [
    "# convert an array of values into a dataset matrix\n",
    "def create_dataset(dataset, look_back=1):\n",
    "    X, Y = [],[]\n",
    "    for i in range(len(dataset)-look_back-1):\n",
    "        a = dataset[i:(i+look_back),0]\n",
    "        X.append(a)\n",
    "        Y.append(dataset[i + look_back,0])\n",
    "    return np.array(X), np.array(Y)"
   ]
  },
  {
   "cell_type": "code",
   "execution_count": null,
   "metadata": {},
   "outputs": [],
   "source": [
    "# reshape into X=t and Y=t+1\n",
    "look_back = 30\n",
    "X_train, Y_train = create_dataset(train, look_back)\n",
    "X_test, Y_test = create_dataset(test, look_back)"
   ]
  },
  {
   "cell_type": "code",
   "execution_count": null,
   "metadata": {},
   "outputs": [],
   "source": [
    "# reshape input to be [samples, time steps, features]\n",
    "X_train = np.reshape(X_train, (X_train.shape[0], 1, X_train.shape[1]))\n",
    "X_test = np.reshape(X_test, (X_test.shape[0], 1, X_test.shape[1]))"
   ]
  },
  {
   "cell_type": "code",
   "execution_count": null,
   "metadata": {},
   "outputs": [],
   "source": [
    "from tensorflow.keras.models import load_model\n",
    "model = load_model('model1.h5')"
   ]
  },
  {
   "cell_type": "markdown",
   "metadata": {},
   "source": [
    "# Result of model testing"
   ]
  },
  {
   "cell_type": "code",
   "execution_count": null,
   "metadata": {},
   "outputs": [],
   "source": [
    "# make predictions\n",
    "train_predict = model.predict(X_train)\n",
    "test_predict = model.predict(X_test)\n",
    "\n",
    "# invert predictions\n",
    "train_predict = scaler.inverse_transform(train_predict)\n",
    "Y_train = scaler.inverse_transform([Y_train])\n",
    "test_predict = scaler.inverse_transform(test_predict)\n",
    "Y_test = scaler.inverse_transform([Y_test])\n",
    "\n",
    "display('Train Mean Absolute Error:,', mean_absolute_error(Y_train[0], train_predict[:,0]))\n",
    "display('Train Root Mean Squared Error:', np.sqrt(mean_squared_error(Y_train[0], train_predict[:,0])))\n",
    "display('Test Mean Absolute Error:', mean_absolute_error(Y_test[0], test_predict[:,0]))\n",
    "display('Test Root Mean Squared Error:', np.sqrt(mean_squared_error(Y_test[0], test_predict[:,0])))\n"
   ]
  },
  {
   "cell_type": "markdown",
   "metadata": {},
   "source": [
    "# Prediction for the next 100 minutes"
   ]
  },
  {
   "cell_type": "code",
   "execution_count": null,
   "metadata": {
    "scrolled": true
   },
   "outputs": [],
   "source": [
    "#Compare actual and predict Global_active_power attribute for a 100 minutes \n",
    "aa=[x for x in range(100)]\n",
    "plt.figure(figsize=(8,8))\n",
    "plt.plot(aa, Y_test[0][:100], marker='.', label=\"actual\")\n",
    "plt.plot(aa, test_predict[:,0][:100], 'r', label=\"prediction\")\n",
    "# plt.tick_params(Left=False, Labelleft=True) #remove ticks\n",
    "plt.tight_layout()\n",
    "sns.despine(top=True)\n",
    "plt.subplots_adjust(left=0.07)\n",
    "plt.ylabel('Household power consumption', size=15)\n",
    "plt.xlabel('Time step(minutes)', size=15)\n",
    "plt.legend(fontsize=15)\n",
    "plt.show();"
   ]
  },
  {
   "cell_type": "markdown",
   "metadata": {},
   "source": [
    "The prediction of total electric energy usage for the next 100 minutes(kilowatts)"
   ]
  },
  {
   "cell_type": "code",
   "execution_count": null,
   "metadata": {},
   "outputs": [],
   "source": [
    "i = 0\n",
    "sum = 0\n",
    "while i < 100:\n",
    "    sum = sum + test_predict[i]\n",
    "    i = i + 1\n",
    "    \n",
    "display(sum)"
   ]
  },
  {
   "cell_type": "markdown",
   "metadata": {},
   "source": [
    "# Prediction for the next 1000 minutes"
   ]
  },
  {
   "cell_type": "code",
   "execution_count": null,
   "metadata": {
    "scrolled": true
   },
   "outputs": [],
   "source": [
    "#Compare actual and predict Global_active_power attribute for a 1000 minutes \n",
    "aa=[x for x in range(1000)]\n",
    "plt.figure(figsize=(8,6))\n",
    "plt.plot(aa, Y_test[0][:1000], marker='.', label=\"actual\")\n",
    "plt.plot(aa, test_predict[:,0][:1000], 'r', label=\"prediction\")\n",
    "# plt.tick_params(Left=False, Labelleft=True) #remove ticks\n",
    "plt.tight_layout()\n",
    "sns.despine(top=True)\n",
    "plt.subplots_adjust(left=0.07)\n",
    "plt.ylabel('Household power consumption', size=15)\n",
    "plt.xlabel('Time step(minutes)', size=15)\n",
    "plt.legend(fontsize=15)\n",
    "plt.show();"
   ]
  },
  {
   "cell_type": "markdown",
   "metadata": {},
   "source": [
    "The prediction of total electric energy usage for the next 1000 minutes(kilowatts)"
   ]
  },
  {
   "cell_type": "code",
   "execution_count": null,
   "metadata": {},
   "outputs": [],
   "source": [
    "i = 0\n",
    "sum = 0\n",
    "while i < 1000:\n",
    "    sum = sum + test_predict[i]\n",
    "    i = i + 1\n",
    "    \n",
    "display(sum)"
   ]
  }
 ],
 "metadata": {
  "kernelspec": {
   "display_name": "Python 3",
   "language": "python",
   "name": "python3"
  },
  "language_info": {
   "codemirror_mode": {
    "name": "ipython",
    "version": 3
   },
   "file_extension": ".py",
   "mimetype": "text/x-python",
   "name": "python",
   "nbconvert_exporter": "python",
   "pygments_lexer": "ipython3",
   "version": "3.7.6"
  }
 },
 "nbformat": 4,
 "nbformat_minor": 4
}
